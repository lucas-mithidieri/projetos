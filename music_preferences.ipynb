{
 "cells": [
  {
   "cell_type": "markdown",
   "id": "1ffe4f57-f4ed-40ae-8bbd-383695f2b7a5",
   "metadata": {},
   "source": [
    "# Introdução\n",
    "."
   ]
  },
  {
   "cell_type": "code",
   "execution_count": 144,
   "id": "e2cfc971-9185-497a-ae54-a5a1e2150e89",
   "metadata": {},
   "outputs": [],
   "source": [
    "import pandas as pd\n",
    "import matplotlib.pyplot as plt\n",
    "from matplotlib.patches import Rectangle, Patch"
   ]
  },
  {
   "cell_type": "code",
   "execution_count": 2,
   "id": "dc87fef2-8c0c-4e60-aad7-fa2fbc429165",
   "metadata": {},
   "outputs": [],
   "source": [
    "df = pd.read_csv('datasets/music_project_en.csv')"
   ]
  },
  {
   "cell_type": "code",
   "execution_count": 3,
   "id": "28ab02f9-411d-47b5-b4f6-9d29b6c64c19",
   "metadata": {},
   "outputs": [
    {
     "data": {
      "text/html": [
       "<div>\n",
       "<style scoped>\n",
       "    .dataframe tbody tr th:only-of-type {\n",
       "        vertical-align: middle;\n",
       "    }\n",
       "\n",
       "    .dataframe tbody tr th {\n",
       "        vertical-align: top;\n",
       "    }\n",
       "\n",
       "    .dataframe thead th {\n",
       "        text-align: right;\n",
       "    }\n",
       "</style>\n",
       "<table border=\"1\" class=\"dataframe\">\n",
       "  <thead>\n",
       "    <tr style=\"text-align: right;\">\n",
       "      <th></th>\n",
       "      <th>userID</th>\n",
       "      <th>Track</th>\n",
       "      <th>artist</th>\n",
       "      <th>genre</th>\n",
       "      <th>City</th>\n",
       "      <th>time</th>\n",
       "      <th>Day</th>\n",
       "    </tr>\n",
       "  </thead>\n",
       "  <tbody>\n",
       "    <tr>\n",
       "      <th>0</th>\n",
       "      <td>FFB692EC</td>\n",
       "      <td>Kamigata To Boots</td>\n",
       "      <td>The Mass Missile</td>\n",
       "      <td>rock</td>\n",
       "      <td>Shelbyville</td>\n",
       "      <td>20:28:33</td>\n",
       "      <td>Wednesday</td>\n",
       "    </tr>\n",
       "    <tr>\n",
       "      <th>1</th>\n",
       "      <td>55204538</td>\n",
       "      <td>Delayed Because of Accident</td>\n",
       "      <td>Andreas Rönnberg</td>\n",
       "      <td>rock</td>\n",
       "      <td>Springfield</td>\n",
       "      <td>14:07:09</td>\n",
       "      <td>Friday</td>\n",
       "    </tr>\n",
       "    <tr>\n",
       "      <th>2</th>\n",
       "      <td>20EC38</td>\n",
       "      <td>Funiculì funiculà</td>\n",
       "      <td>Mario Lanza</td>\n",
       "      <td>pop</td>\n",
       "      <td>Shelbyville</td>\n",
       "      <td>20:58:07</td>\n",
       "      <td>Wednesday</td>\n",
       "    </tr>\n",
       "    <tr>\n",
       "      <th>3</th>\n",
       "      <td>A3DD03C9</td>\n",
       "      <td>Dragons in the Sunset</td>\n",
       "      <td>Fire + Ice</td>\n",
       "      <td>folk</td>\n",
       "      <td>Shelbyville</td>\n",
       "      <td>08:37:09</td>\n",
       "      <td>Monday</td>\n",
       "    </tr>\n",
       "    <tr>\n",
       "      <th>4</th>\n",
       "      <td>E2DC1FAE</td>\n",
       "      <td>Soul People</td>\n",
       "      <td>Space Echo</td>\n",
       "      <td>dance</td>\n",
       "      <td>Springfield</td>\n",
       "      <td>08:34:34</td>\n",
       "      <td>Monday</td>\n",
       "    </tr>\n",
       "  </tbody>\n",
       "</table>\n",
       "</div>"
      ],
      "text/plain": [
       "     userID                        Track            artist  genre  \\\n",
       "0  FFB692EC            Kamigata To Boots  The Mass Missile   rock   \n",
       "1  55204538  Delayed Because of Accident  Andreas Rönnberg   rock   \n",
       "2    20EC38            Funiculì funiculà       Mario Lanza    pop   \n",
       "3  A3DD03C9        Dragons in the Sunset        Fire + Ice   folk   \n",
       "4  E2DC1FAE                  Soul People        Space Echo  dance   \n",
       "\n",
       "        City        time        Day  \n",
       "0  Shelbyville  20:28:33  Wednesday  \n",
       "1  Springfield  14:07:09     Friday  \n",
       "2  Shelbyville  20:58:07  Wednesday  \n",
       "3  Shelbyville  08:37:09     Monday  \n",
       "4  Springfield  08:34:34     Monday  "
      ]
     },
     "execution_count": 3,
     "metadata": {},
     "output_type": "execute_result"
    }
   ],
   "source": [
    "df.head()"
   ]
  },
  {
   "cell_type": "code",
   "execution_count": 4,
   "id": "da342f55-3c36-4cb9-98ef-d8f701409cb4",
   "metadata": {},
   "outputs": [
    {
     "data": {
      "text/plain": [
       "(65079, 7)"
      ]
     },
     "execution_count": 4,
     "metadata": {},
     "output_type": "execute_result"
    }
   ],
   "source": [
    "df.shape"
   ]
  },
  {
   "cell_type": "code",
   "execution_count": 5,
   "id": "89091c84-db45-40d5-a6b0-b225fddb1994",
   "metadata": {},
   "outputs": [
    {
     "name": "stdout",
     "output_type": "stream",
     "text": [
      "<class 'pandas.core.frame.DataFrame'>\n",
      "RangeIndex: 65079 entries, 0 to 65078\n",
      "Data columns (total 7 columns):\n",
      " #   Column    Non-Null Count  Dtype \n",
      "---  ------    --------------  ----- \n",
      " 0     userID  65079 non-null  object\n",
      " 1   Track     63736 non-null  object\n",
      " 2   artist    57512 non-null  object\n",
      " 3   genre     63881 non-null  object\n",
      " 4     City    65079 non-null  object\n",
      " 5   time      65079 non-null  object\n",
      " 6   Day       65079 non-null  object\n",
      "dtypes: object(7)\n",
      "memory usage: 3.5+ MB\n"
     ]
    }
   ],
   "source": [
    "df.info()"
   ]
  },
  {
   "cell_type": "code",
   "execution_count": 6,
   "id": "86e09775-3c31-48ec-a497-c198bcf0b22c",
   "metadata": {},
   "outputs": [
    {
     "data": {
      "text/plain": [
       "Index(['  userID', 'Track', 'artist', 'genre', '  City  ', 'time', 'Day'], dtype='object')"
      ]
     },
     "execution_count": 6,
     "metadata": {},
     "output_type": "execute_result"
    }
   ],
   "source": [
    "df.columns"
   ]
  },
  {
   "cell_type": "code",
   "execution_count": 7,
   "id": "d19d539d-a83c-4ec6-b507-f327b7817130",
   "metadata": {},
   "outputs": [
    {
     "data": {
      "text/plain": [
       "3826"
      ]
     },
     "execution_count": 7,
     "metadata": {},
     "output_type": "execute_result"
    }
   ],
   "source": [
    "df.duplicated().sum()"
   ]
  },
  {
   "cell_type": "code",
   "execution_count": 8,
   "id": "5a9a9d2c-b310-4dda-b18f-82cdf7a34888",
   "metadata": {},
   "outputs": [
    {
     "data": {
      "text/plain": [
       "artist      11.627407\n",
       "Track        2.063646\n",
       "genre        1.840840\n",
       "  userID     0.000000\n",
       "  City       0.000000\n",
       "time         0.000000\n",
       "Day          0.000000\n",
       "dtype: float64"
      ]
     },
     "execution_count": 8,
     "metadata": {},
     "output_type": "execute_result"
    }
   ],
   "source": [
    "(df.isna().sum() / df.shape[0] * 100).sort_values(ascending=False)"
   ]
  },
  {
   "cell_type": "markdown",
   "id": "8e517688-bc9b-4010-9ff4-345fd9361894",
   "metadata": {},
   "source": [
    "  \n",
    "---\n",
    "Constatações:\n",
    "* 65079 registros e 7 features\n",
    "* 3950 registros duplicados\n",
    "* presença de Missing values\n",
    "* problema com nomes das features (espaços)\n",
    "* tipo inválido (time)"
   ]
  },
  {
   "cell_type": "markdown",
   "id": "2af6ce25-1214-4542-9213-140c0c6542fa",
   "metadata": {},
   "source": [
    "# Preprocessing\n",
    "A seguir os dados serão tratados e os problemas encotrados serão corrigidos, e uma feature adicional será criada para enriquecer a análise."
   ]
  },
  {
   "cell_type": "code",
   "execution_count": 9,
   "id": "9966b3d7-ea69-4e0d-b05e-92bb0541c601",
   "metadata": {},
   "outputs": [],
   "source": [
    "# Renaming columns\n",
    "df.columns = df.columns.str.replace(' ', '').str.lower()"
   ]
  },
  {
   "cell_type": "code",
   "execution_count": 10,
   "id": "54078edc-0b14-4cb9-81cf-d5cecaeea2ea",
   "metadata": {},
   "outputs": [],
   "source": [
    "# Data-type changing\n",
    "df.time = pd.to_datetime(df['time'], format='%H:%M:%S').dt.time"
   ]
  },
  {
   "cell_type": "code",
   "execution_count": 11,
   "id": "edf382aa-c9d2-4521-ba84-ceb6ad0db580",
   "metadata": {},
   "outputs": [],
   "source": [
    "# Feature creation\n",
    "df['hour'] = df.time.apply(lambda x: x.hour)"
   ]
  },
  {
   "cell_type": "code",
   "execution_count": 13,
   "id": "66e30bff-1cdf-465f-9086-efb47d20e91b",
   "metadata": {},
   "outputs": [],
   "source": [
    "# Duplicated data removal\n",
    "df.drop_duplicates(inplace=True)"
   ]
  },
  {
   "cell_type": "code",
   "execution_count": 14,
   "id": "99720d82-ff0b-46dd-8a22-07994ee316d2",
   "metadata": {},
   "outputs": [],
   "source": [
    "# Missing values\n",
    "df.fillna('unknown', inplace=True)"
   ]
  },
  {
   "cell_type": "code",
   "execution_count": 16,
   "id": "59b6cc82-06a0-42ff-a40a-31bedb9dfff2",
   "metadata": {},
   "outputs": [
    {
     "data": {
      "text/plain": [
       "0"
      ]
     },
     "execution_count": 16,
     "metadata": {},
     "output_type": "execute_result"
    }
   ],
   "source": [
    "df.duplicated().sum()"
   ]
  },
  {
   "cell_type": "code",
   "execution_count": 17,
   "id": "a218f8ad-40a1-4b5c-9069-899a20766c61",
   "metadata": {},
   "outputs": [
    {
     "data": {
      "text/plain": [
       "userid    0\n",
       "track     0\n",
       "artist    0\n",
       "genre     0\n",
       "city      0\n",
       "time      0\n",
       "day       0\n",
       "hour      0\n",
       "dtype: int64"
      ]
     },
     "execution_count": 17,
     "metadata": {},
     "output_type": "execute_result"
    }
   ],
   "source": [
    "df.isna().sum()"
   ]
  },
  {
   "cell_type": "markdown",
   "id": "ec903f6a-db26-4302-a606-c0ae42d7caa2",
   "metadata": {},
   "source": [
    "# Exploratory data analysis"
   ]
  },
  {
   "cell_type": "markdown",
   "id": "a5c6658f-473e-4112-9e25-52eb3eb87675",
   "metadata": {},
   "source": [
    "Para compreender melhor os dados e descobrir relações entre eles será realizada esta análise, tendo como ponto de partida as seguintes hipóteses:\n",
    "\n",
    "* o dia da semana tem influência na quantidade de músicas escutadas em cada cidade\n",
    "* existem horários de pico\n",
    "* nos horários de pico certos gêneros são dominantes\n",
    "* cada cidade tem uma maior preferência por certos gêneros musicais"
   ]
  },
  {
   "cell_type": "code",
   "execution_count": 27,
   "id": "31bece85-7cbb-4761-a271-47947552c048",
   "metadata": {},
   "outputs": [
    {
     "data": {
      "text/html": [
       "<div>\n",
       "<style scoped>\n",
       "    .dataframe tbody tr th:only-of-type {\n",
       "        vertical-align: middle;\n",
       "    }\n",
       "\n",
       "    .dataframe tbody tr th {\n",
       "        vertical-align: top;\n",
       "    }\n",
       "\n",
       "    .dataframe thead th {\n",
       "        text-align: right;\n",
       "    }\n",
       "</style>\n",
       "<table border=\"1\" class=\"dataframe\">\n",
       "  <thead>\n",
       "    <tr style=\"text-align: right;\">\n",
       "      <th>day</th>\n",
       "      <th>Monday</th>\n",
       "      <th>Wednesday</th>\n",
       "      <th>Friday</th>\n",
       "    </tr>\n",
       "    <tr>\n",
       "      <th>city</th>\n",
       "      <th></th>\n",
       "      <th></th>\n",
       "      <th></th>\n",
       "    </tr>\n",
       "  </thead>\n",
       "  <tbody>\n",
       "    <tr>\n",
       "      <th>Shelbyville</th>\n",
       "      <td>5614</td>\n",
       "      <td>7003</td>\n",
       "      <td>5895</td>\n",
       "    </tr>\n",
       "    <tr>\n",
       "      <th>Springfield</th>\n",
       "      <td>15740</td>\n",
       "      <td>11056</td>\n",
       "      <td>15945</td>\n",
       "    </tr>\n",
       "  </tbody>\n",
       "</table>\n",
       "</div>"
      ],
      "text/plain": [
       "day          Monday  Wednesday  Friday\n",
       "city                                  \n",
       "Shelbyville    5614       7003    5895\n",
       "Springfield   15740      11056   15945"
      ]
     },
     "execution_count": 27,
     "metadata": {},
     "output_type": "execute_result"
    }
   ],
   "source": [
    "pivot = df.pivot_table(values='track', columns='day', index='city', aggfunc='count')\n",
    "pivot = pivot[['Monday','Wednesday','Friday']]\n",
    "pivot"
   ]
  },
  {
   "cell_type": "code",
   "execution_count": 166,
   "id": "423560aa-7222-4da1-872c-99414560f8a4",
   "metadata": {},
   "outputs": [
    {
     "data": {
      "image/png": "[encoded data removed]",
      "text/plain": [
       "<Figure size 600x400 with 1 Axes>"
      ]
     },
     "metadata": {},
     "output_type": "display_data"
    }
   ],
   "source": [
    "# plot settings\n",
    "colors = ['#074EFF', '#00DBB3']\n",
    "total_bars = len(pivot.columns)\n",
    "indices = pivot.index.values\n",
    "bar_width = 0.5\n",
    "\n",
    "# plotting elements\n",
    "fig, ax = plt.subplots()\n",
    "\n",
    "for i, (lbl, bar_value) in enumerate(pivot.to_dict().items()):   \n",
    "    # stacks\n",
    "    for j, (k,v) in enumerate(bar_value.items()):\n",
    "        stack = Rectangle((i + (bar_width * .5), 0), bar_width, v, color=colors[j], alpha=0.5)\n",
    "        ax.add_patch(stack)\n",
    "\n",
    "# limits\n",
    "ax.set_xlim(0, 3)\n",
    "ax.set_ylim(0, 20000)\n",
    "fig.set_size_inches(6, 4)\n",
    "\n",
    "# labels and ticks\n",
    "ax.set_xticks([i + bar_width for i in range(total_bars)])\n",
    "ax.set_xticklabels((pivot.columns.values))\n",
    "plt.ylabel('tracks')\n",
    "plt.title('Amout of tracks listened to')\n",
    "\n",
    "# legend\n",
    "ax.legend(handles=[mpatches.Patch(color=colors[i], label=lblname) for i, lblname in enumerate(indices)],\n",
    "          title = 'City')\n",
    "\n",
    "plt.show()"
   ]
  },
  {
   "cell_type": "markdown",
   "id": "34d4fa41-97e6-4fee-8e25-4a4b8a66c1ab",
   "metadata": {},
   "source": [
    "Obs.:  \n",
    "Springfield tem uma quantidade maior de músicas escutadas do que Shelbyville por ser uma cidade maior que Shelbyville.\n",
    "* Em Shelbyville Quarta feira é o dia com mais músicas escutadas.\n",
    "* Em Springfield é o contrário, Quarta é o dia com menor quantidade.\n",
    "* Segunda e Sexta possuem quantidades parecidas em ambas cidades."
   ]
  },
  {
   "cell_type": "code",
   "execution_count": null,
   "id": "5847504f-8fca-4522-a39f-01c2cc6f09d4",
   "metadata": {},
   "outputs": [],
   "source": []
  },
  {
   "cell_type": "code",
   "execution_count": null,
   "id": "69f8f952-1feb-4add-9247-c3576233f3cb",
   "metadata": {},
   "outputs": [],
   "source": []
  },
  {
   "cell_type": "code",
   "execution_count": null,
   "id": "7fc8abae-a0da-4671-80b6-71643e2f2392",
   "metadata": {},
   "outputs": [],
   "source": []
  },
  {
   "cell_type": "code",
   "execution_count": null,
   "id": "51351f0c-53bd-478b-9854-480c4edd30f6",
   "metadata": {},
   "outputs": [],
   "source": []
  }
 ],
 "metadata": {
  "kernelspec": {
   "display_name": "Python 3 (ipykernel)",
   "language": "python",
   "name": "python3"
  },
  "language_info": {
   "codemirror_mode": {
    "name": "ipython",
    "version": 3
   },
   "file_extension": ".py",
   "mimetype": "text/x-python",
   "name": "python",
   "nbconvert_exporter": "python",
   "pygments_lexer": "ipython3",
   "version": "3.10.6"
  }
 },
 "nbformat": 4,
 "nbformat_minor": 5
}
