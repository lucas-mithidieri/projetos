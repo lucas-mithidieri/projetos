{
 "cells": [
  {
   "cell_type": "markdown",
   "id": "1e96b55e-6313-4400-80ee-98843c5d6e60",
   "metadata": {},
   "source": [
    "# Introdução"
   ]
  },
  {
   "cell_type": "markdown",
   "id": "7a530076-2330-44ef-acd0-2d54f7365d87",
   "metadata": {},
   "source": [
    "O objetivo deste projeto é construir um modelo para classificar as resenhas dos usuários, com desempenho score F1 ≥ 0.85.\n",
    "\n",
    "A métrica F1 foi escolhida por uma medida recomendada de desempenho em problemas de classificação binária, quanto maior for, melhor será o desempenho do modelo tanto para classificar positiva, ou negativamente."
   ]
  },
  {
   "cell_type": "markdown",
   "id": "e43dbc94-48f3-4bb2-bc9b-fe9f650cdfbb",
   "metadata": {},
   "source": [
    "__Dicionário de dados:__\n",
    "* 'review' — texto da resenha\n",
    "* 'ds_part_train/test' — respectivos registros de treino e teste\n",
    "* 'pos' — classificação (0 negativa, 1 positiva)"
   ]
  },
  {
   "cell_type": "code",
   "execution_count": 1,
   "id": "250e342c-e48e-4bde-beb9-04a975fb7548",
   "metadata": {},
   "outputs": [],
   "source": [
    "import pandas as pd\n",
    "import math\n",
    "import nltk\n",
    "import time\n",
    "from matplotlib import pyplot as plt\n",
    "from nltk.corpus import stopwords\n",
    "from nltk.stem import WordNetLemmatizer\n",
    "from sklearn.feature_extraction.text import CountVectorizer\n",
    "from sklearn.ensemble import RandomForestClassifier\n",
    "from sklearn.linear_model import LogisticRegression\n",
    "from catboost import CatBoostClassifier\n",
    "from sklearn.model_selection import GridSearchCV\n",
    "from sklearn.metrics import f1_score, make_scorer"
   ]
  },
  {
   "cell_type": "markdown",
   "id": "c369bb4d-6217-414e-b662-bf9f4726f810",
   "metadata": {},
   "source": [
    "## 1. Data overview"
   ]
  },
  {
   "cell_type": "code",
   "execution_count": 2,
   "id": "5acecf69-ecd8-4f1c-8e46-f8c8bd2ba005",
   "metadata": {},
   "outputs": [],
   "source": [
    "reviews = pd.read_csv('datasets/movie_reviews.tsv', sep='\\t', dtype={'votes': 'Int64'})"
   ]
  },
  {
   "cell_type": "code",
   "execution_count": 3,
   "id": "cc3eed73-1f70-4f06-9347-ce8810a4a718",
   "metadata": {},
   "outputs": [
    {
     "data": {
      "text/html": [
       "<div>\n",
       "<style scoped>\n",
       "    .dataframe tbody tr th:only-of-type {\n",
       "        vertical-align: middle;\n",
       "    }\n",
       "\n",
       "    .dataframe tbody tr th {\n",
       "        vertical-align: top;\n",
       "    }\n",
       "\n",
       "    .dataframe thead th {\n",
       "        text-align: right;\n",
       "    }\n",
       "</style>\n",
       "<table border=\"1\" class=\"dataframe\">\n",
       "  <thead>\n",
       "    <tr style=\"text-align: right;\">\n",
       "      <th></th>\n",
       "      <th>tconst</th>\n",
       "      <th>title_type</th>\n",
       "      <th>primary_title</th>\n",
       "      <th>original_title</th>\n",
       "      <th>start_year</th>\n",
       "      <th>end_year</th>\n",
       "      <th>runtime_minutes</th>\n",
       "      <th>is_adult</th>\n",
       "      <th>genres</th>\n",
       "      <th>average_rating</th>\n",
       "      <th>votes</th>\n",
       "      <th>review</th>\n",
       "      <th>rating</th>\n",
       "      <th>sp</th>\n",
       "      <th>pos</th>\n",
       "      <th>ds_part</th>\n",
       "      <th>idx</th>\n",
       "    </tr>\n",
       "  </thead>\n",
       "  <tbody>\n",
       "    <tr>\n",
       "      <th>0</th>\n",
       "      <td>tt0068152</td>\n",
       "      <td>movie</td>\n",
       "      <td>$</td>\n",
       "      <td>$</td>\n",
       "      <td>1971</td>\n",
       "      <td>\\N</td>\n",
       "      <td>121</td>\n",
       "      <td>0</td>\n",
       "      <td>Comedy,Crime,Drama</td>\n",
       "      <td>6.3</td>\n",
       "      <td>2218</td>\n",
       "      <td>The pakage implies that Warren Beatty and Gold...</td>\n",
       "      <td>1</td>\n",
       "      <td>neg</td>\n",
       "      <td>0</td>\n",
       "      <td>train</td>\n",
       "      <td>8335</td>\n",
       "    </tr>\n",
       "    <tr>\n",
       "      <th>1</th>\n",
       "      <td>tt0068152</td>\n",
       "      <td>movie</td>\n",
       "      <td>$</td>\n",
       "      <td>$</td>\n",
       "      <td>1971</td>\n",
       "      <td>\\N</td>\n",
       "      <td>121</td>\n",
       "      <td>0</td>\n",
       "      <td>Comedy,Crime,Drama</td>\n",
       "      <td>6.3</td>\n",
       "      <td>2218</td>\n",
       "      <td>How the hell did they get this made?! Presenti...</td>\n",
       "      <td>1</td>\n",
       "      <td>neg</td>\n",
       "      <td>0</td>\n",
       "      <td>train</td>\n",
       "      <td>8336</td>\n",
       "    </tr>\n",
       "    <tr>\n",
       "      <th>2</th>\n",
       "      <td>tt0313150</td>\n",
       "      <td>short</td>\n",
       "      <td>'15'</td>\n",
       "      <td>'15'</td>\n",
       "      <td>2002</td>\n",
       "      <td>\\N</td>\n",
       "      <td>25</td>\n",
       "      <td>0</td>\n",
       "      <td>Comedy,Drama,Short</td>\n",
       "      <td>6.3</td>\n",
       "      <td>184</td>\n",
       "      <td>There is no real story the film seems more lik...</td>\n",
       "      <td>3</td>\n",
       "      <td>neg</td>\n",
       "      <td>0</td>\n",
       "      <td>test</td>\n",
       "      <td>2489</td>\n",
       "    </tr>\n",
       "    <tr>\n",
       "      <th>3</th>\n",
       "      <td>tt0313150</td>\n",
       "      <td>short</td>\n",
       "      <td>'15'</td>\n",
       "      <td>'15'</td>\n",
       "      <td>2002</td>\n",
       "      <td>\\N</td>\n",
       "      <td>25</td>\n",
       "      <td>0</td>\n",
       "      <td>Comedy,Drama,Short</td>\n",
       "      <td>6.3</td>\n",
       "      <td>184</td>\n",
       "      <td>Um .... a serious film about troubled teens in...</td>\n",
       "      <td>7</td>\n",
       "      <td>pos</td>\n",
       "      <td>1</td>\n",
       "      <td>test</td>\n",
       "      <td>9280</td>\n",
       "    </tr>\n",
       "    <tr>\n",
       "      <th>4</th>\n",
       "      <td>tt0313150</td>\n",
       "      <td>short</td>\n",
       "      <td>'15'</td>\n",
       "      <td>'15'</td>\n",
       "      <td>2002</td>\n",
       "      <td>\\N</td>\n",
       "      <td>25</td>\n",
       "      <td>0</td>\n",
       "      <td>Comedy,Drama,Short</td>\n",
       "      <td>6.3</td>\n",
       "      <td>184</td>\n",
       "      <td>I'm totally agree with GarryJohal from Singapo...</td>\n",
       "      <td>9</td>\n",
       "      <td>pos</td>\n",
       "      <td>1</td>\n",
       "      <td>test</td>\n",
       "      <td>9281</td>\n",
       "    </tr>\n",
       "  </tbody>\n",
       "</table>\n",
       "</div>"
      ],
      "text/plain": [
       "      tconst title_type primary_title original_title  start_year end_year  \\\n",
       "0  tt0068152      movie             $              $        1971       \\N   \n",
       "1  tt0068152      movie             $              $        1971       \\N   \n",
       "2  tt0313150      short          '15'           '15'        2002       \\N   \n",
       "3  tt0313150      short          '15'           '15'        2002       \\N   \n",
       "4  tt0313150      short          '15'           '15'        2002       \\N   \n",
       "\n",
       "  runtime_minutes  is_adult              genres  average_rating  votes  \\\n",
       "0             121         0  Comedy,Crime,Drama             6.3   2218   \n",
       "1             121         0  Comedy,Crime,Drama             6.3   2218   \n",
       "2              25         0  Comedy,Drama,Short             6.3    184   \n",
       "3              25         0  Comedy,Drama,Short             6.3    184   \n",
       "4              25         0  Comedy,Drama,Short             6.3    184   \n",
       "\n",
       "                                              review  rating   sp  pos  \\\n",
       "0  The pakage implies that Warren Beatty and Gold...       1  neg    0   \n",
       "1  How the hell did they get this made?! Presenti...       1  neg    0   \n",
       "2  There is no real story the film seems more lik...       3  neg    0   \n",
       "3  Um .... a serious film about troubled teens in...       7  pos    1   \n",
       "4  I'm totally agree with GarryJohal from Singapo...       9  pos    1   \n",
       "\n",
       "  ds_part   idx  \n",
       "0   train  8335  \n",
       "1   train  8336  \n",
       "2    test  2489  \n",
       "3    test  9280  \n",
       "4    test  9281  "
      ]
     },
     "execution_count": 3,
     "metadata": {},
     "output_type": "execute_result"
    }
   ],
   "source": [
    "reviews.head()"
   ]
  },
  {
   "cell_type": "code",
   "execution_count": 4,
   "id": "f6e5e408-27ab-4377-a381-3d383827e9c6",
   "metadata": {},
   "outputs": [
    {
     "name": "stdout",
     "output_type": "stream",
     "text": [
      "<class 'pandas.core.frame.DataFrame'>\n",
      "RangeIndex: 47331 entries, 0 to 47330\n",
      "Data columns (total 17 columns):\n",
      " #   Column           Non-Null Count  Dtype  \n",
      "---  ------           --------------  -----  \n",
      " 0   tconst           47331 non-null  object \n",
      " 1   title_type       47331 non-null  object \n",
      " 2   primary_title    47331 non-null  object \n",
      " 3   original_title   47331 non-null  object \n",
      " 4   start_year       47331 non-null  int64  \n",
      " 5   end_year         47331 non-null  object \n",
      " 6   runtime_minutes  47331 non-null  object \n",
      " 7   is_adult         47331 non-null  int64  \n",
      " 8   genres           47331 non-null  object \n",
      " 9   average_rating   47329 non-null  float64\n",
      " 10  votes            47329 non-null  Int64  \n",
      " 11  review           47331 non-null  object \n",
      " 12  rating           47331 non-null  int64  \n",
      " 13  sp               47331 non-null  object \n",
      " 14  pos              47331 non-null  int64  \n",
      " 15  ds_part          47331 non-null  object \n",
      " 16  idx              47331 non-null  int64  \n",
      "dtypes: Int64(1), float64(1), int64(5), object(10)\n",
      "memory usage: 6.2+ MB\n"
     ]
    }
   ],
   "source": [
    "reviews.info()"
   ]
  },
  {
   "cell_type": "code",
   "execution_count": 5,
   "id": "5d18289f-8bdd-4482-9e71-8b4363857325",
   "metadata": {},
   "outputs": [
    {
     "data": {
      "text/plain": [
       "0"
      ]
     },
     "execution_count": 5,
     "metadata": {},
     "output_type": "execute_result"
    }
   ],
   "source": [
    "reviews.duplicated().sum()"
   ]
  },
  {
   "cell_type": "code",
   "execution_count": 6,
   "id": "a6ff2112-c8b4-4001-9933-c6fe501ea90c",
   "metadata": {},
   "outputs": [
    {
     "data": {
      "text/plain": [
       "tconst             0\n",
       "title_type         0\n",
       "primary_title      0\n",
       "original_title     0\n",
       "start_year         0\n",
       "end_year           0\n",
       "runtime_minutes    0\n",
       "is_adult           0\n",
       "genres             0\n",
       "average_rating     2\n",
       "votes              2\n",
       "review             0\n",
       "rating             0\n",
       "sp                 0\n",
       "pos                0\n",
       "ds_part            0\n",
       "idx                0\n",
       "dtype: int64"
      ]
     },
     "execution_count": 6,
     "metadata": {},
     "output_type": "execute_result"
    }
   ],
   "source": [
    "reviews.isna().sum()"
   ]
  },
  {
   "cell_type": "markdown",
   "id": "0df7a74e-7bdf-47c6-8501-8abd3d3a6527",
   "metadata": {},
   "source": [
    "Constatações:\n",
    "* 47331 resenhas\n",
    "* 2 valores faltantes em average_rating e votes"
   ]
  },
  {
   "cell_type": "markdown",
   "id": "706d58e0-5441-484d-9822-504fb0eb0b98",
   "metadata": {},
   "source": [
    "## 2. Pre-processing"
   ]
  },
  {
   "cell_type": "markdown",
   "id": "df9a00c3-25c4-44da-94a5-9f139d23d0c4",
   "metadata": {},
   "source": [
    "O único pre-processamento será eliminar os valores faltantes, por serem ínfimos comparado ao tamanho do conjunto de dados."
   ]
  },
  {
   "cell_type": "code",
   "execution_count": 7,
   "id": "1e94b94d-a2ba-4d24-a203-ee51f461d87b",
   "metadata": {},
   "outputs": [],
   "source": [
    "# eliminating missing values\n",
    "reviews.dropna(inplace=True)"
   ]
  },
  {
   "cell_type": "markdown",
   "id": "e95c469a-d26a-4a18-b097-8c1416e11603",
   "metadata": {},
   "source": [
    "## 3. EDA"
   ]
  },
  {
   "cell_type": "markdown",
   "id": "e58977b1-4e9b-45ca-941c-850c7ac72c49",
   "metadata": {},
   "source": [
    "Como o objetivo é apenas analisar o sentimento baseado nas to texto das resenhas, a seguir será verificado se há desequilíbrio na quantidade de resenhas."
   ]
  },
  {
   "cell_type": "markdown",
   "id": "c28619e2-9311-47b9-b23f-cd622f49d141",
   "metadata": {},
   "source": [
    "##### Class balance check"
   ]
  },
  {
   "cell_type": "code",
   "execution_count": 8,
   "id": "4b97bebc-3878-452b-8c9a-ef30016f9e14",
   "metadata": {},
   "outputs": [
    {
     "data": {
      "text/plain": [
       "0    23715\n",
       "1    23614\n",
       "Name: pos, dtype: int64"
      ]
     },
     "execution_count": 8,
     "metadata": {},
     "output_type": "execute_result"
    }
   ],
   "source": [
    "labels = reviews['pos'].value_counts()\n",
    "labels"
   ]
  },
  {
   "cell_type": "code",
   "execution_count": 9,
   "id": "addaf1e8-6572-492e-9e2a-6e94700499cb",
   "metadata": {},
   "outputs": [
    {
     "data": {
      "image/png": "[encoded data removed]",
      "text/plain": [
       "<Figure size 640x480 with 1 Axes>"
      ]
     },
     "metadata": {},
     "output_type": "display_data"
    }
   ],
   "source": [
    "plt.bar([0,1], labels, color=['#F40036', '#5AC344'])\n",
    "plt.xlim(-1,2)\n",
    "plt.xticks([0,1], ['negative','positive'])\n",
    "plt.ylabel('reviews')\n",
    "plt.title('Total reviews')\n",
    "plt.show()"
   ]
  },
  {
   "cell_type": "markdown",
   "id": "f1a6846d-d6fa-492f-be85-84b34b25c7d6",
   "metadata": {},
   "source": [
    "A quantidade de resenhas está bem equilibrada 23715 (negativas) e 23614 (positivas). A seguir os dados serão preparados para a etapa de teste de modelos e seleção do melhor."
   ]
  },
  {
   "cell_type": "markdown",
   "id": "1929aade-87fd-46e4-9bd1-fda6f9b4d6fe",
   "metadata": {},
   "source": [
    "## 4. Data preparation"
   ]
  },
  {
   "cell_type": "code",
   "execution_count": 10,
   "id": "e98c23b0-29d0-470b-88c2-b984641766e5",
   "metadata": {},
   "outputs": [],
   "source": [
    "# function to prepare texts to ML training\n",
    "def text_preprocess(text):\n",
    "    text = text.lower() # minúsculas\n",
    "    words = nltk.word_tokenize(text, language='english') # Tokenização (separação em palavras)\n",
    "    words = [lemmatizer.lemmatize(word) for word in words if word not in stop_words] # Remove stopwords e aplica lematização\n",
    "    return \" \".join(words)"
   ]
  },
  {
   "cell_type": "code",
   "execution_count": 11,
   "id": "a7f9bb4f-38c3-41d7-957a-96a775c3c5ee",
   "metadata": {},
   "outputs": [],
   "source": [
    "stop_words = set(stopwords.words('english'))\n",
    "lemmatizer = WordNetLemmatizer()"
   ]
  },
  {
   "cell_type": "code",
   "execution_count": 12,
   "id": "383d0e48-fdc8-4a91-85ea-ad7059e1a1ce",
   "metadata": {},
   "outputs": [],
   "source": [
    "reviews['review_preprocessed'] = reviews['review'].apply(text_preprocess)"
   ]
  },
  {
   "cell_type": "code",
   "execution_count": 13,
   "id": "259c9e11-14ef-4142-9472-5f08e80e20ad",
   "metadata": {},
   "outputs": [],
   "source": [
    "train = reviews.query('ds_part == \"train\"').copy()\n",
    "test = reviews.query('ds_part == \"test\"').copy()\n",
    "\n",
    "X_train = train['review_preprocessed']\n",
    "y_train = train['pos']\n",
    "\n",
    "X_test = test['review_preprocessed']\n",
    "y_test = test['pos']"
   ]
  },
  {
   "cell_type": "code",
   "execution_count": 14,
   "id": "bf5f87c2-0db2-492e-9932-941199329bf0",
   "metadata": {},
   "outputs": [],
   "source": [
    "vectorizer = CountVectorizer()"
   ]
  },
  {
   "cell_type": "code",
   "execution_count": 15,
   "id": "3b0a20e1-a8ee-4178-a479-ce74686de44d",
   "metadata": {},
   "outputs": [],
   "source": [
    "# transform texts into vectors\n",
    "X_train_vectorized = vectorizer.fit_transform(X_train)\n",
    "X_test_vectorized = vectorizer.transform(X_test)"
   ]
  },
  {
   "cell_type": "markdown",
   "id": "a3f3ed90-7d47-4875-8d53-8aa6162d8ba6",
   "metadata": {},
   "source": [
    "## 5. Modeling"
   ]
  },
  {
   "cell_type": "markdown",
   "id": "2931399d-690e-44e6-8137-f3f0ba97030d",
   "metadata": {},
   "source": [
    "A seguir os 3 modelos serão treinados e testados, visando escolher o que entrega melhor F1-score no conjunto de treinamento. Todos modelos são modelos usados para classificação, sendo o primeiro o mais simples que geralmente costuma além de ser rápido entregar bons scores."
   ]
  },
  {
   "cell_type": "code",
   "execution_count": 16,
   "id": "4b105fa4-d99a-4d36-8bae-3ab6757965f2",
   "metadata": {},
   "outputs": [],
   "source": [
    "models = {\n",
    "    'Logistic Regression': LogisticRegression(max_iter=1000, random_state=42),\n",
    "    'CatBoost Classifier': CatBoostClassifier(verbose=False, random_state=42),\n",
    "    'Random Forest Classifier': RandomForestClassifier(random_state=42)\n",
    "}"
   ]
  },
  {
   "cell_type": "code",
   "execution_count": 17,
   "id": "84b76b68-b272-469f-b0dd-eeb1f3a12012",
   "metadata": {},
   "outputs": [],
   "source": [
    "params = {\n",
    "    'Logistic Regression': {'C': [0.01, 0.1, 1.0]},\n",
    "    'CatBoost Classifier': {'learning_rate': [0.1, 0.2], 'n_estimators': [7, 21]},\n",
    "    'Random Forest Classifier': {'n_estimators': [10, 21, 100], 'max_depth': [7, 21]}\n",
    "}"
   ]
  },
  {
   "cell_type": "code",
   "execution_count": 18,
   "id": "fdc69891-e3b1-4f7c-996f-36af9142a37e",
   "metadata": {},
   "outputs": [
    {
     "data": {
      "text/html": [
       "<div>\n",
       "<style scoped>\n",
       "    .dataframe tbody tr th:only-of-type {\n",
       "        vertical-align: middle;\n",
       "    }\n",
       "\n",
       "    .dataframe tbody tr th {\n",
       "        vertical-align: top;\n",
       "    }\n",
       "\n",
       "    .dataframe thead th {\n",
       "        text-align: right;\n",
       "    }\n",
       "</style>\n",
       "<table border=\"1\" class=\"dataframe\">\n",
       "  <thead>\n",
       "    <tr style=\"text-align: right;\">\n",
       "      <th></th>\n",
       "      <th>Model</th>\n",
       "      <th>F1-Score</th>\n",
       "      <th>duration</th>\n",
       "    </tr>\n",
       "  </thead>\n",
       "  <tbody>\n",
       "    <tr>\n",
       "      <th>0</th>\n",
       "      <td>Logistic Regression</td>\n",
       "      <td>0.864582</td>\n",
       "      <td>29s</td>\n",
       "    </tr>\n",
       "    <tr>\n",
       "      <th>2</th>\n",
       "      <td>Random Forest Classifier</td>\n",
       "      <td>0.842257</td>\n",
       "      <td>144s</td>\n",
       "    </tr>\n",
       "    <tr>\n",
       "      <th>1</th>\n",
       "      <td>CatBoost Classifier</td>\n",
       "      <td>0.812540</td>\n",
       "      <td>155s</td>\n",
       "    </tr>\n",
       "  </tbody>\n",
       "</table>\n",
       "</div>"
      ],
      "text/plain": [
       "                      Model  F1-Score duration\n",
       "0       Logistic Regression  0.864582      29s\n",
       "2  Random Forest Classifier  0.842257     144s\n",
       "1       CatBoost Classifier  0.812540     155s"
      ]
     },
     "execution_count": 18,
     "metadata": {},
     "output_type": "execute_result"
    }
   ],
   "source": [
    "res = {'Model':[],\n",
    "       'F1-Score':[],\n",
    "       'duration':[],\n",
    "       'best_params':[]}\n",
    "\n",
    "for model_name, model in models.items():\n",
    "    start_time = time.time()\n",
    "    grid_search = GridSearchCV(model, params[model_name], scoring=make_scorer(f1_score), n_jobs=1, cv=3)\n",
    "    grid_search.fit(X_train_vectorized, y_train)\n",
    "    \n",
    "    # print(\"Top Parâmetros:\", grid_search.best_params_)\n",
    "\n",
    "    end_time = time.time()\n",
    "    \n",
    "    res['Model'].append(model_name)\n",
    "    res['F1-Score'].append(grid_search.best_score_)\n",
    "    res['duration'].append(f'{(end_time - start_time):.0f}s')\n",
    "    res['best_params'].append(grid_search.best_params_)\n",
    "\n",
    "res = pd.DataFrame(res)\n",
    "eval = res.drop(columns='best_params').sort_values(by='F1-Score',ascending=False)\n",
    "eval"
   ]
  },
  {
   "cell_type": "markdown",
   "id": "6a3d54cd-e41b-4c57-9163-91c327727802",
   "metadata": {},
   "source": [
    "O modelo com maior desempenho durante o treinamento foi o Logistic Regression (F1-Score > 0.85)\n",
    "* ajuste rápido aos dados (apenas 29s)\n",
    "* f1-score acima do requisitado (0.86) > 0.85"
   ]
  },
  {
   "cell_type": "markdown",
   "id": "6f69a351-1e38-4bf6-966f-b5fa9c3d9af2",
   "metadata": {},
   "source": [
    "## 6. Final Test"
   ]
  },
  {
   "cell_type": "markdown",
   "id": "85b82f79-71c3-4f78-81c3-2f2ba1b705da",
   "metadata": {},
   "source": [
    "Para atestar a eficácia do modelo, o modelo com os hiperparâmetros encontrados será aplicado a dados novos."
   ]
  },
  {
   "cell_type": "code",
   "execution_count": 19,
   "id": "c8bb15cf-77b3-46f4-9cfc-d1c0d0c9de89",
   "metadata": {},
   "outputs": [
    {
     "data": {
      "text/html": [
       "<div>\n",
       "<style scoped>\n",
       "    .dataframe tbody tr th:only-of-type {\n",
       "        vertical-align: middle;\n",
       "    }\n",
       "\n",
       "    .dataframe tbody tr th {\n",
       "        vertical-align: top;\n",
       "    }\n",
       "\n",
       "    .dataframe thead th {\n",
       "        text-align: right;\n",
       "    }\n",
       "</style>\n",
       "<table border=\"1\" class=\"dataframe\">\n",
       "  <thead>\n",
       "    <tr style=\"text-align: right;\">\n",
       "      <th></th>\n",
       "      <th>Model</th>\n",
       "      <th>F1-Score</th>\n",
       "      <th>duration</th>\n",
       "      <th>best_params</th>\n",
       "    </tr>\n",
       "  </thead>\n",
       "  <tbody>\n",
       "    <tr>\n",
       "      <th>0</th>\n",
       "      <td>Logistic Regression</td>\n",
       "      <td>0.864582</td>\n",
       "      <td>29s</td>\n",
       "      <td>{'C': 0.01}</td>\n",
       "    </tr>\n",
       "  </tbody>\n",
       "</table>\n",
       "</div>"
      ],
      "text/plain": [
       "                 Model  F1-Score duration  best_params\n",
       "0  Logistic Regression  0.864582      29s  {'C': 0.01}"
      ]
     },
     "execution_count": 19,
     "metadata": {},
     "output_type": "execute_result"
    }
   ],
   "source": [
    "res.query(f'Model == \"{eval.values[0][0]}\"')"
   ]
  },
  {
   "cell_type": "code",
   "execution_count": 20,
   "id": "17d31662-55dd-472a-86fe-c47cf80b632b",
   "metadata": {},
   "outputs": [
    {
     "data": {
      "text/html": [
       "<style>#sk-container-id-1 {color: black;background-color: white;}#sk-container-id-1 pre{padding: 0;}#sk-container-id-1 div.sk-toggleable {background-color: white;}#sk-container-id-1 label.sk-toggleable__label {cursor: pointer;display: block;width: 100%;margin-bottom: 0;padding: 0.3em;box-sizing: border-box;text-align: center;}#sk-container-id-1 label.sk-toggleable__label-arrow:before {content: \"▸\";float: left;margin-right: 0.25em;color: #696969;}#sk-container-id-1 label.sk-toggleable__label-arrow:hover:before {color: black;}#sk-container-id-1 div.sk-estimator:hover label.sk-toggleable__label-arrow:before {color: black;}#sk-container-id-1 div.sk-toggleable__content {max-height: 0;max-width: 0;overflow: hidden;text-align: left;background-color: #f0f8ff;}#sk-container-id-1 div.sk-toggleable__content pre {margin: 0.2em;color: black;border-radius: 0.25em;background-color: #f0f8ff;}#sk-container-id-1 input.sk-toggleable__control:checked~div.sk-toggleable__content {max-height: 200px;max-width: 100%;overflow: auto;}#sk-container-id-1 input.sk-toggleable__control:checked~label.sk-toggleable__label-arrow:before {content: \"▾\";}#sk-container-id-1 div.sk-estimator input.sk-toggleable__control:checked~label.sk-toggleable__label {background-color: #d4ebff;}#sk-container-id-1 div.sk-label input.sk-toggleable__control:checked~label.sk-toggleable__label {background-color: #d4ebff;}#sk-container-id-1 input.sk-hidden--visually {border: 0;clip: rect(1px 1px 1px 1px);clip: rect(1px, 1px, 1px, 1px);height: 1px;margin: -1px;overflow: hidden;padding: 0;position: absolute;width: 1px;}#sk-container-id-1 div.sk-estimator {font-family: monospace;background-color: #f0f8ff;border: 1px dotted black;border-radius: 0.25em;box-sizing: border-box;margin-bottom: 0.5em;}#sk-container-id-1 div.sk-estimator:hover {background-color: #d4ebff;}#sk-container-id-1 div.sk-parallel-item::after {content: \"\";width: 100%;border-bottom: 1px solid gray;flex-grow: 1;}#sk-container-id-1 div.sk-label:hover label.sk-toggleable__label {background-color: #d4ebff;}#sk-container-id-1 div.sk-serial::before {content: \"\";position: absolute;border-left: 1px solid gray;box-sizing: border-box;top: 0;bottom: 0;left: 50%;z-index: 0;}#sk-container-id-1 div.sk-serial {display: flex;flex-direction: column;align-items: center;background-color: white;padding-right: 0.2em;padding-left: 0.2em;position: relative;}#sk-container-id-1 div.sk-item {position: relative;z-index: 1;}#sk-container-id-1 div.sk-parallel {display: flex;align-items: stretch;justify-content: center;background-color: white;position: relative;}#sk-container-id-1 div.sk-item::before, #sk-container-id-1 div.sk-parallel-item::before {content: \"\";position: absolute;border-left: 1px solid gray;box-sizing: border-box;top: 0;bottom: 0;left: 50%;z-index: -1;}#sk-container-id-1 div.sk-parallel-item {display: flex;flex-direction: column;z-index: 1;position: relative;background-color: white;}#sk-container-id-1 div.sk-parallel-item:first-child::after {align-self: flex-end;width: 50%;}#sk-container-id-1 div.sk-parallel-item:last-child::after {align-self: flex-start;width: 50%;}#sk-container-id-1 div.sk-parallel-item:only-child::after {width: 0;}#sk-container-id-1 div.sk-dashed-wrapped {border: 1px dashed gray;margin: 0 0.4em 0.5em 0.4em;box-sizing: border-box;padding-bottom: 0.4em;background-color: white;}#sk-container-id-1 div.sk-label label {font-family: monospace;font-weight: bold;display: inline-block;line-height: 1.2em;}#sk-container-id-1 div.sk-label-container {text-align: center;}#sk-container-id-1 div.sk-container {/* jupyter's `normalize.less` sets `[hidden] { display: none; }` but bootstrap.min.css set `[hidden] { display: none !important; }` so we also need the `!important` here to be able to override the default hidden behavior on the sphinx rendered scikit-learn.org. See: https://github.com/scikit-learn/scikit-learn/issues/21755 */display: inline-block !important;position: relative;}#sk-container-id-1 div.sk-text-repr-fallback {display: none;}</style><div id=\"sk-container-id-1\" class=\"sk-top-container\"><div class=\"sk-text-repr-fallback\"><pre>LogisticRegression(C=0.01, random_state=42)</pre><b>In a Jupyter environment, please rerun this cell to show the HTML representation or trust the notebook. <br />On GitHub, the HTML representation is unable to render, please try loading this page with nbviewer.org.</b></div><div class=\"sk-container\" hidden><div class=\"sk-item\"><div class=\"sk-estimator sk-toggleable\"><input class=\"sk-toggleable__control sk-hidden--visually\" id=\"sk-estimator-id-1\" type=\"checkbox\" checked><label for=\"sk-estimator-id-1\" class=\"sk-toggleable__label sk-toggleable__label-arrow\">LogisticRegression</label><div class=\"sk-toggleable__content\"><pre>LogisticRegression(C=0.01, random_state=42)</pre></div></div></div></div></div>"
      ],
      "text/plain": [
       "LogisticRegression(C=0.01, random_state=42)"
      ]
     },
     "execution_count": 20,
     "metadata": {},
     "output_type": "execute_result"
    }
   ],
   "source": [
    "# Logistic Regression\n",
    "best_logreg_model = LogisticRegression(C=0.01, max_iter=100, random_state=42)\n",
    "best_logreg_model.fit(X_train_vectorized, y_train)"
   ]
  },
  {
   "cell_type": "code",
   "execution_count": 21,
   "id": "51788a25-7c2f-4857-8748-189b36f1904c",
   "metadata": {},
   "outputs": [
    {
     "name": "stdout",
     "output_type": "stream",
     "text": [
      "\n",
      "Expected classification: [1 1 1 1 1 0 0 0 0 0]\n",
      "\n",
      "Predicted: [1 1 1 1 1 0 0 0 0 0]\n"
     ]
    }
   ],
   "source": [
    "# Handmade reviews, 5 positive e 5 negative\n",
    "my_reviews = pd.DataFrame([\n",
    "    \"This movie is absolutely fantastic! The plot is engaging, and the characters are well-developed.\",\n",
    "    \"I loved this movie. The acting is superb, and the story is touching.\",\n",
    "    \"The cinematography and special effects are amazing. I highly recommend this movie.\",\n",
    "    \"This film is a masterpiece. The direction, performances, and music are outstanding.\",\n",
    "    \"A must-watch movie! It kept me at the edge of my seat from start to finish.\",\n",
    "    \"I was very disappointed with this movie. The plot was confusing, and the acting was terrible.\",\n",
    "    \"This film was a waste of time. The story was dull, and the characters were uninteresting.\",\n",
    "    \"The movie had poor direction, and the acting felt forced and artificial.\",\n",
    "    \"My experience with this film was unpleasant. The pacing was slow, and the story was predictable.\",\n",
    "    \"The movie lacked substance and failed to deliver a compelling narrative.\"\n",
    "], columns=['review'])\n",
    "\n",
    "# preprocess texts\n",
    "my_reviews['review'] = my_reviews['review'].apply(text_preprocess)\n",
    "\n",
    "# vectorize-it\n",
    "my_reviews_vectorized = vectorizer.transform(my_reviews['review'])\n",
    "\n",
    "# make predictions\n",
    "logreg_predictions = best_logreg_model.predict(my_reviews_vectorized)\n",
    "\n",
    "# print results\n",
    "print('\\nExpected classification:', '[1 1 1 1 1 0 0 0 0 0]')\n",
    "print()\n",
    "print('Predicted:', logreg_predictions)"
   ]
  },
  {
   "cell_type": "markdown",
   "id": "0e9dfecc-836c-4a0d-beb4-a5f65cc5d678",
   "metadata": {},
   "source": [
    "## Conclusões\n",
    "#### Visão geral\n",
    "Os textos foram carregados e ao analisar o resumo os dados foram encontrados valores faltantes, posteriomente tratados (removidos). A quantidade de exemplos de análises positivas e negativas foi bem equilibrada o que evita que o modelo dê maior preferência para uma das classes.\n",
    "\n",
    "#### Transformações realizadas\n",
    "Para possibilitar o treinamento dos modelos os textos foram transformados, eliminando stopwords, colocando todas as palavras em minusculas além de remover espaços adicionais.\n",
    "\n",
    "#### Treino de Modelos e ajuste de hiperparâmetros\n",
    "Uma vez preparados os textos foram vetorizados e os modelos foram testados com diferentes parâmetros a fim de selecionar aquele com melhor desempenho, ou seja, (F1 ≥ 0,85).\n",
    "\n",
    "#### Modelo escolhido\n",
    "Dentre os 3 modelos treinados o que teve o melhor desempenho foi o Logistic Regression (F1 = 0,86), o que indica que o modelo é bom tanto para classificar comentários positivos quanto negativos.\n",
    "* Logistic Regression (C=0.01)\n",
    "\n",
    "#### Teste final\n",
    "Por último foi realizado um teste em resenhas escritas por mim (5 positivas e 5 negativas), para verificar a consistência dos resultados com o desempenho do modelo durante a fase de testes, que alcançou acerto de 100%.\n",
    "\n",
    "#### Ajustes futuros\n",
    "Novos ajustes podem ser realizados para alçar resultados ainda melhores, como novas rodadas de seleção de hiperparametros ou uso de bigram."
   ]
  }
 ],
 "metadata": {
  "kernelspec": {
   "display_name": "Python 3 (ipykernel)",
   "language": "python",
   "name": "python3"
  },
  "language_info": {
   "codemirror_mode": {
    "name": "ipython",
    "version": 3
   },
   "file_extension": ".py",
   "mimetype": "text/x-python",
   "name": "python",
   "nbconvert_exporter": "python",
   "pygments_lexer": "ipython3",
   "version": "3.10.6"
  }
 },
 "nbformat": 4,
 "nbformat_minor": 5
}
